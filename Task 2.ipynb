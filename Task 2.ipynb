{
 "cells": [
  {
   "cell_type": "markdown",
   "metadata": {},
   "source": [
    "# Task 2 "
   ]
  },
  {
   "cell_type": "markdown",
   "metadata": {},
   "source": [
    "## Problem Statement\n",
    "\n",
    "_Implement a circuit that returns $\\lvert01\\rangle$ and $\\lvert10\\rangle$ with equal probability._\n",
    "\n",
    "**Requirements:**\n",
    "- The circuit should consist only of CNOTs, RXs and RYs. \n",
    "- Start from all parameters in parametric gates being equal to 0 or randomly chosen. \n",
    "- You should find the right set of parameters using gradient descent (you might use more advanced optimization methods if you like). \n",
    "- Simulations must be done with sampling - i.e. a limited number of measurements per iteration and noise. \n",
    "\n",
    "Compare the results for different numbers of measurements: 1, 10, 100, 1000. \n",
    "\n",
    "**Bonus question:\n",
    "How to make sure you produce state $\\lvert01\\rangle$ + $\\lvert10\\rangle$ and not $\\lvert01\\rangle$ - $\\lvert10\\rangle$?**"
   ]
  },
  {
   "cell_type": "markdown",
   "metadata": {},
   "source": [
    "---"
   ]
  },
  {
   "cell_type": "markdown",
   "metadata": {},
   "source": [
    "I've decided to use **Qiskit 0.20.0** for this task - it's the one I'm most comfortable with. Version details follow..."
   ]
  },
  {
   "cell_type": "code",
   "execution_count": null,
   "metadata": {},
   "outputs": [],
   "source": [
    "import qiskit\n",
    "qiskit.__qiskit_version__"
   ]
  },
  {
   "cell_type": "markdown",
   "metadata": {},
   "source": [
    "## 1. Creating a reference circuit"
   ]
  },
  {
   "cell_type": "markdown",
   "metadata": {},
   "source": [
    "For starters, I decided to make a reference circuit that creates the state $\\lvert\\psi\\rangle = \\lvert01\\rangle + \\lvert10\\rangle$ (upto a global phase) using only RX, RY, and CX gates. The intention behind was this was to have something against which I could compare the circuits that my program _learnt_. This was not strictly necessary - I could have skipped the circuit altogether and just initialized the `Statevector()` object, but this way I don't have to worry about normalizing the state manually. It also lets me experiment with different reference circuits easily and run the circuits using the `QasmSimulator()`."
   ]
  },
  {
   "cell_type": "code",
   "execution_count": null,
   "metadata": {},
   "outputs": [],
   "source": [
    "# imports and general configuration\n",
    "import random\n",
    "import numpy as np\n",
    "\n",
    "from qiskit import QuantumCircuit, execute, Aer\n",
    "from qiskit.visualization import plot_histogram, plot_state_qsphere as plot_q\n",
    "from qiskit.quantum_info import Statevector\n",
    "%matplotlib inline\n",
    "%config InlineBackend.figure_format = 'svg'\n",
    "\n",
    "config = {\n",
    "    'output': 'mpl',\n",
    "    'qsphere_fig_size': (6.5, 6.5)\n",
    "}\n",
    "statevector_sim = Aer.get_backend('statevector_simulator')\n",
    "qasm_sim = Aer.get_backend('qasm_simulator')"
   ]
  },
  {
   "cell_type": "code",
   "execution_count": null,
   "metadata": {
    "scrolled": false
   },
   "outputs": [],
   "source": [
    "t2_ref_ckt = QuantumCircuit(2)\n",
    "\n",
    "# X gate on qubit 1\n",
    "t2_ref_ckt.rx(np.pi, 1)\n",
    "# Hadamard on qubit 0\n",
    "t2_ref_ckt.ry(np.pi/2, 0) \n",
    "t2_ref_ckt.rx(np.pi, 0)\n",
    "# CNOT with qubit 0 as control and qubit 1 as target\n",
    "t2_ref_ckt.cx(0,1)\n",
    "\n",
    "# evolving the Statevector() using the QuantumCircuit() to reach the final state\n",
    "# this way there's no need for a simulator \n",
    "ref_sv = Statevector.from_label('00').evolve(t2_ref_ckt)\n",
    "\n",
    "# plot the state on the q-sphere for visualization\n",
    "plot_q(ref_sv, figsize=config['qsphere_fig_size'], show_state_phases=True)"
   ]
  },
  {
   "cell_type": "markdown",
   "metadata": {},
   "source": [
    "## 2. Approach 1"
   ]
  },
  {
   "cell_type": "markdown",
   "metadata": {},
   "source": [
    "This first approach is straightforward. The order of the gates is fixed and I'm attempting to learn the parameters of the RX and RY gates using Gradient Descent...  \n",
    "The easiest way to generate $\\lvert\\psi\\rangle$ is by applying the Bell circuit (H + CX) on an initial state of $\\lvert01\\rangle$. Since the CX gate is unparametrized and is the last gate we apply, we only need to worry about generating the state that, on application of a CX gate, would give us $\\lvert\\psi\\rangle$, which turns out to be $\\lvert\\psi^\\prime\\rangle = \\lvert01\\rangle + \\lvert11\\rangle = \\lvert+\\rangle\\otimes\\lvert1\\rangle$.\n",
    "\n",
    "This state is completely separable, which means I can treat each qubit individually and optimize one at a time.\n",
    "\n",
    "The structure of the circuit is as shown below..."
   ]
  },
  {
   "cell_type": "code",
   "execution_count": null,
   "metadata": {},
   "outputs": [],
   "source": [
    "# Initialize random circuit parameters\n",
    "\n",
    "# q0_thetas is a list of 2 angles (between 0 and 2*pi) which parametrize the RY and RX gates on qubit 0 respectively\n",
    "q0_thetas = 2 * np.pi * np.random.rand(2)\n",
    "# same as q0_thetas but for qubit 1\n",
    "q1_thetas = 2 * np.pi * np.random.rand(2)\n",
    "\n",
    "t2_ckt = QuantumCircuit(2)\n",
    "\n",
    "t2_ckt.ry(q0_thetas[0], 0)\n",
    "t2_ckt.rx(q0_thetas[1], 0)\n",
    "\n",
    "t2_ckt.ry(q1_thetas[0], 1)\n",
    "t2_ckt.rx(q1_thetas[1], 1)\n",
    "\n",
    "t2_ckt.measure_all()\n",
    "print(\"Circuit created with random initialization of parameters...\")\n",
    "t2_ckt.draw('mpl')"
   ]
  },
  {
   "cell_type": "markdown",
   "metadata": {},
   "source": [
    "## 2.1 Calculation\n",
    "\n",
    "Gradient Descent is a fairly simple algorithm to implement from scratch. Since we're working with individual qubits and optimizing over 2 gates only, it is easy to construct the unitary matrix representing the effect of the circuit on each qubit.  \n",
    "  \n",
    "  \n",
    "Let $\\theta_1$ be the rotation angle of the RY Gate, and $\\theta_2$ be the rotation angle of the RX Gate.\n",
    "  \n",
    "The unitary matrices corresponding to the RY and RX gates are given by:\n",
    "$$\n",
    "\\begin{aligned}\n",
    "    RY(\\theta_1) & = \n",
    "    \\begin{bmatrix} \n",
    "        cos(\\frac{\\theta_1}{2}) & -sin(\\frac{\\theta_1}{2}) \\\\ \n",
    "        -sin(\\frac{\\theta_1}{2}) & cos(\\frac{\\theta_1}{2})\n",
    "    \\end{bmatrix}\\\\\n",
    "    RX(\\theta_1) & = \n",
    "    \\begin{bmatrix} \n",
    "        cos(\\frac{\\theta_1}{2}) & -isin(\\frac{\\theta_1}{2}) \\\\ \n",
    "        -isin(\\frac{\\theta_1}{2}) & cos(\\frac{\\theta_1}{2})\n",
    "    \\end{bmatrix}\\\\\n",
    "\\end{aligned}\n",
    "$$  \n",
    "\n",
    "### Arriving at the final state in terms of parameters $\\theta_1$ and $\\theta_2$:\n",
    "  \n",
    "We start in the state $\\lvert0\\rangle = \\begin{bmatrix} 1\\\\0 \\end{bmatrix}$, and then apply $RY(\\theta_1)$ followed by $RX(\\theta_2)$\n",
    "\n",
    "$$\n",
    "\\begin{bmatrix} \n",
    "    1 \\\\\n",
    "    0 \n",
    "\\end{bmatrix}\n",
    "\\xrightarrow{RY(\\theta_1)}\n",
    "\\begin{bmatrix} \n",
    "    cos(\\frac{\\theta_1}{2}) \\\\\n",
    "    -sin(\\frac{\\theta_1}{2})\n",
    "\\end{bmatrix}\n",
    "\\xrightarrow{RX(\\theta_2)}\n",
    "\\begin{bmatrix} \n",
    "    cos(\\frac{\\theta_1}{2})cos(\\frac{\\theta_2}{2}) - isin(\\frac{\\theta_1}{2})cos(\\frac{\\theta_2}{2}) \\\\\n",
    "    -icos(\\frac{\\theta_1}{2})sin(\\frac{\\theta_2}{2}) - sin(\\frac{\\theta_1}{2})cos(\\frac{\\theta_2}{2})\n",
    "\\end{bmatrix}\n",
    "$$\n",
    "\n",
    "### Probabilities of measuring $\\lvert0\\rangle$ and $\\lvert1\\rangle$:\n",
    "$$\n",
    "\\begin{aligned}\n",
    "P_0 & = cos^2(\\frac{\\theta_1}{2})cos^2(\\frac{\\theta_2}{2}) + sin^2(\\frac{\\theta_1}{2})sin^2(\\frac{\\theta_2}{2}) \\\\\n",
    "P_1 & = cos^2(\\frac{\\theta_1}{2})sin^2(\\frac{\\theta_2}{2}) + sin^2(\\frac{\\theta_1}{2})cos^2(\\frac{\\theta_2}{2})\n",
    "\\end{aligned}\n",
    "$$\n",
    "\n",
    "### Cost Function:\n",
    "\n",
    "The cost function must be one that penalizes a circuit which yields measurement probabilities that we don't want.\n",
    "\n",
    "#### For qubit 0:\n",
    "We want qubit 0 to end up in a state with equal probabilities of measuring $\\lvert0\\rangle$ and $\\lvert1\\rangle$, like  $\\lvert+\\rangle = \\frac{\\lvert0\\rangle + \\lvert1\\rangle}{\\sqrt{2}}$, so a reasonable cost function is:\n",
    "$$\n",
    "J = \\frac{1}{2}(P_0 - 0.5)^2 + \\frac{1}{2}(P_1 - 0.5)^2\n",
    "$$\n",
    "\n",
    "#### For qubit 1:\n",
    "We want qubit 1 to end up in the state $\\lvert1\\rangle$, so we would like $P_0$ to be $0$ and $P_1$ to be $1$: \n",
    "$$\n",
    "J = \\frac{1}{2}(P_0)^2 + \\frac{1}{2}(P_1 - 1)^2\n",
    "$$  \n",
    "where the factors of $\\frac{1}{2}$ are taken for convenience with derivatives...  \n",
    "<font color=green>Because we're starting out in a state along the Z-axis of the Bloch sphere, and applying rotations along the X and Y axes, the 2 rotations effectively act independently, and so we can optimize them independently without having to worry about backpropagation of errors.</font>\n",
    "  \n",
    "  \n",
    "### Partial Derivatives\n",
    "\n",
    "At any step during the optimization, gradient descent changes the values of each parameter by an amount proportional to the partial derivative of the cost function with respect to that parameter at that point.\n",
    "$$\n",
    "\\begin{aligned}\n",
    "    \\frac{\\partial P_0}{\\partial \\theta_1} & = -sin\\theta_1cos^2\\frac{\\theta_2}{2} + sin\\theta_1sin^2\\frac{\\theta_2}{2} \\\\\n",
    "    & = -sin\\theta_1cos\\theta_2 \\\\\n",
    "    \\frac{\\partial P_0}{\\partial \\theta_2} & = -cos^2\\frac{\\theta_1}{2}sin\\theta_2 + sin^2\\frac{\\theta_1}{2}sin\\theta_2 \\\\\n",
    "    & = -cos\\theta_1sin\\theta_2 \\\\\n",
    "    \\frac{\\partial P_1}{\\partial \\theta_1} & = cos^2\\frac{\\theta_2}{2}sin\\theta_1 - sin^2\\frac{\\theta_2}{2}sin\\theta_1 \\\\\n",
    "    & = sin\\theta_1cos\\theta_2 \\\\\n",
    "    \\frac{\\partial P_1}{\\partial \\theta_2} & = -sin^2\\frac{\\theta_1}{2}sin\\theta_2 + cos^2\\frac{\\theta_1}{2}sin\\theta_2 \\\\\n",
    "    & = cos\\theta_1sin\\theta_2 \\\\\n",
    "\\end{aligned}\n",
    "$$\n",
    "  \n",
    "  \n",
    "Substituting these values:\n",
    "$$\n",
    "\\begin{aligned}\n",
    "    \\frac{\\partial J}{\\partial \\theta_1} & = \\frac{1}{2}*2*(P_0-0.5)*(-sin\\theta_1cos\\theta_2) + \\frac{1}{2}*2*(P_1-0.5)*(sin\\theta_1cos\\theta_2)\\\\\n",
    "    & = sin\\theta_1cos\\theta_2(P_1-P_0)\\\\\n",
    "    \\textrm{and}\\\\\n",
    "    \\frac{\\partial J}{\\partial \\theta_2} & = \\frac{1}{2}*2*(P_0-0.5)*(-sin\\theta_2cos\\theta_1) + \\frac{1}{2}*2*(P_1-0.5)*(sin\\theta_2cos\\theta_1)\\\\\n",
    "    & = sin\\theta_2cos\\theta_1(P_1-P_0)\\\\\n",
    "\\end{aligned}\n",
    "$$"
   ]
  },
  {
   "cell_type": "markdown",
   "metadata": {},
   "source": [
    "## Qubit 0\n",
    "\n",
    "Optimizing the RY and RX angles for qubit 0, which should give us $\\lvert0\\rangle$ and $\\lvert1\\rangle$ with equal probability... "
   ]
  },
  {
   "cell_type": "code",
   "execution_count": null,
   "metadata": {},
   "outputs": [],
   "source": [
    "q0_ckt = QuantumCircuit(1)\n",
    "\n",
    "q0_ckt.ry(q0_thetas[0], 0)\n",
    "q0_ckt.rx(q0_thetas[1], 0)\n",
    "q0_ckt.measure_all()\n",
    "\n",
    "q0_ckt.draw(config['output'])"
   ]
  },
  {
   "cell_type": "code",
   "execution_count": null,
   "metadata": {},
   "outputs": [],
   "source": [
    "q0_initial_state = Statevector.from_label('0')\n",
    "# learning rate\n",
    "alpha = 0.01"
   ]
  },
  {
   "cell_type": "code",
   "execution_count": null,
   "metadata": {},
   "outputs": [],
   "source": [
    "for _ in range(1000):\n",
    "    \n",
    "    # TODO: show with statevector simulator also\n",
    "    result = execute(q0_ckt, backend=qasm_sim, shots=1000).result()\n",
    "    counts = result.get_counts()\n",
    "    print(counts)\n",
    "    \n",
    "    p0 = counts['0'] / 1000\n",
    "    p1 = counts['1'] / 1000\n",
    "    cost = (p0 - 0.5) ** 2 + (p1 - 0.5) ** 2\n",
    "    print(\"cost: \", cost)\n",
    "    \n",
    "    partial_1 = np.sin(q0_thetas[0]) * np.cos(q0_thetas[1]) * (p1 - p0)\n",
    "    partial_2 = np.sin(q0_thetas[1]) * np.cos(q0_thetas[0]) * (p1 - p0)\n",
    "\n",
    "    q0_thetas = [q0_thetas[0] - alpha * partial_1, q0_thetas[1] - alpha * partial_2]\n",
    "    \n",
    "    # TODO: instead of recreating, explore adding a new gate with just the delta angle\n",
    "    q0_ckt = QuantumCircuit(1)\n",
    "    q0_ckt.ry(q0_thetas[0], 0)\n",
    "    q0_ckt.rx(q0_thetas[1], 0)\n",
    "    q0_ckt.measure_all()\n",
    "    \n",
    "print(q0_thetas)"
   ]
  },
  {
   "cell_type": "code",
   "execution_count": null,
   "metadata": {
    "scrolled": true
   },
   "outputs": [],
   "source": [
    "q0_ckt.draw(config['output'])"
   ]
  },
  {
   "cell_type": "markdown",
   "metadata": {},
   "source": [
    "## Qubit 1\n",
    "\n",
    "Optimizing the RY and RX angles for qubit 1, which should give us $\\lvert1\\rangle$ with probability $1$... "
   ]
  },
  {
   "cell_type": "code",
   "execution_count": null,
   "metadata": {},
   "outputs": [],
   "source": [
    "q1_ckt = QuantumCircuit(1)\n",
    "\n",
    "q1_ckt.ry(q1_thetas[0], 0)\n",
    "q1_ckt.rx(q1_thetas[1], 0)\n",
    "q1_ckt.measure_all()\n",
    "\n",
    "q1_ckt.draw(config['output'])"
   ]
  },
  {
   "cell_type": "code",
   "execution_count": null,
   "metadata": {},
   "outputs": [],
   "source": [
    "alpha = 0.01\n",
    "for _ in range(1000):\n",
    "    result = execute(q1_ckt, backend=qasm_sim, shots=1000).result()\n",
    "    counts = result.get_counts()\n",
    "    print(counts)\n",
    "    \n",
    "    p0 = counts['0'] / 1000\n",
    "    p1 = counts['1'] / 1000\n",
    "    cost = (p0) ** 2 + (p1 - 1) ** 2\n",
    "    print(\"cost: \", cost)\n",
    "    \n",
    "    partial_1 = np.sin(q1_thetas[0]) * np.cos(q1_thetas[1]) * (p1 - p0 - 1)\n",
    "    partial_2 = np.sin(q1_thetas[1]) * np.cos(q1_thetas[0]) * (p1 - p0 - 1)\n",
    "\n",
    "    q1_thetas = [q1_thetas[0] - alpha * partial_1, q1_thetas[1] - alpha * partial_2]\n",
    "    q1_ckt = QuantumCircuit(1)\n",
    "    q1_ckt.ry(q1_thetas[0], 0)\n",
    "    q1_ckt.rx(q1_thetas[1], 0)\n",
    "    q1_ckt.measure_all()\n",
    "    \n",
    "print(q1_thetas)"
   ]
  },
  {
   "cell_type": "code",
   "execution_count": null,
   "metadata": {},
   "outputs": [],
   "source": [
    "q1_ckt.draw(config['output'])"
   ]
  },
  {
   "cell_type": "markdown",
   "metadata": {},
   "source": [
    "## Putting it all together..."
   ]
  },
  {
   "cell_type": "code",
   "execution_count": null,
   "metadata": {},
   "outputs": [],
   "source": [
    "final_ckt = QuantumCircuit(2)\n",
    "\n",
    "final_ckt.ry(q0_thetas[0], 0)\n",
    "final_ckt.rx(q0_thetas[1], 0)\n",
    "final_ckt.ry(q1_thetas[0], 1)\n",
    "final_ckt.rx(q1_thetas[1], 1)\n",
    "final_ckt.cx(0,1)\n",
    "\n",
    "final_ckt.measure_all()\n",
    "\n",
    "final_ckt.draw('mpl')"
   ]
  },
  {
   "cell_type": "code",
   "execution_count": null,
   "metadata": {},
   "outputs": [],
   "source": [
    "res = execute(final_ckt, backend=qasm_sim, shots=4096).result()\n",
    "plot_histogram(res.get_counts())"
   ]
  },
  {
   "cell_type": "code",
   "execution_count": null,
   "metadata": {},
   "outputs": [],
   "source": [
    "res2 = execute(final_ckt.remove_final_measurements(inplace=False), backend=statevector_sim).result()\n",
    "sv = res2.get_statevector()\n",
    "Statevector(sv).probabilities_dict()\n",
    "\n",
    "#final_ckt.draw('mpl')"
   ]
  },
  {
   "cell_type": "code",
   "execution_count": null,
   "metadata": {},
   "outputs": [],
   "source": [
    "%autosave 30\n",
    "import qiskit\n",
    "qiskit.__qiskit_version__"
   ]
  }
 ],
 "metadata": {
  "kernelspec": {
   "display_name": "Qiskit",
   "language": "python",
   "name": "qiskit"
  },
  "language_info": {
   "codemirror_mode": {
    "name": "ipython",
    "version": 3
   },
   "file_extension": ".py",
   "mimetype": "text/x-python",
   "name": "python",
   "nbconvert_exporter": "python",
   "pygments_lexer": "ipython3",
   "version": "3.8.1"
  }
 },
 "nbformat": 4,
 "nbformat_minor": 4
}
