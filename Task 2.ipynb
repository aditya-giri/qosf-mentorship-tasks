{
 "cells": [
  {
   "cell_type": "markdown",
   "metadata": {},
   "source": [
    "# Task 2 "
   ]
  },
  {
   "cell_type": "markdown",
   "metadata": {},
   "source": [
    "## Problem Statement\n",
    "\n",
    "_Implement a circuit that returns $\\lvert01\\rangle$ and $\\lvert10\\rangle$ with equal probability._\n",
    "\n",
    "**Requirements:**\n",
    "- The circuit should consist only of CNOTs, RXs and RYs. \n",
    "- Start from all parameters in parametric gates being equal to 0 or randomly chosen. \n",
    "- You should find the right set of parameters using gradient descent (you might use more advanced optimization methods if you like). \n",
    "- Simulations must be done with sampling - i.e. a limited number of measurements per iteration and noise. \n",
    "\n",
    "Compare the results for different numbers of measurements: 1, 10, 100, 1000. \n",
    "\n",
    "**Bonus question:\n",
    "How to make sure you produce state $\\lvert01\\rangle$ + $\\lvert10\\rangle$ and not $\\lvert01\\rangle$ - $\\lvert10\\rangle$?**"
   ]
  },
  {
   "cell_type": "markdown",
   "metadata": {},
   "source": [
    "---"
   ]
  },
  {
   "cell_type": "markdown",
   "metadata": {},
   "source": [
    "Environment details and general configuration..."
   ]
  },
  {
   "cell_type": "code",
   "execution_count": null,
   "metadata": {
    "scrolled": true
   },
   "outputs": [],
   "source": [
    "%autosave 15\n",
    "import qiskit\n",
    "qiskit.__qiskit_version__"
   ]
  },
  {
   "cell_type": "code",
   "execution_count": null,
   "metadata": {
    "scrolled": true
   },
   "outputs": [],
   "source": [
    "# imports and general configuration\n",
    "import random\n",
    "import numpy as np\n",
    "\n",
    "from qiskit import QuantumCircuit, execute, Aer\n",
    "from qiskit.visualization import plot_histogram, plot_state_qsphere as plot_q\n",
    "from qiskit.quantum_info import Statevector\n",
    "import matplotlib.pyplot as plt\n",
    "%matplotlib inline\n",
    "%config InlineBackend.figure_format = 'svg'\n",
    "\n",
    "config = {\n",
    "    'output': 'mpl',\n",
    "    'qsphere_fig_size': (6.5, 6.5)\n",
    "}\n",
    "\n",
    "statevector_sim = Aer.get_backend('statevector_simulator')\n",
    "qasm_sim = Aer.get_backend('qasm_simulator')"
   ]
  },
  {
   "cell_type": "markdown",
   "metadata": {},
   "source": [
    "## Creating a reference circuit"
   ]
  },
  {
   "cell_type": "markdown",
   "metadata": {},
   "source": [
    "For starters, I decided to make a reference circuit that creates the state $\\lvert\\psi\\rangle = \\frac{1}{\\sqrt{2}}\\lvert01\\rangle + \\frac{1}{\\sqrt{2}}\\lvert10\\rangle$ (upto a global phase) using only RX, RY, and CX gates. The intention behind this was just to get a feel of the RX and RY gates and do some visualization..."
   ]
  },
  {
   "cell_type": "code",
   "execution_count": null,
   "metadata": {
    "scrolled": true
   },
   "outputs": [],
   "source": [
    "t2_ref_ckt = QuantumCircuit(2)\n",
    "\n",
    "# X gate on qubit 1\n",
    "t2_ref_ckt.rx(np.pi, 1)\n",
    "# Hadamard on qubit 0\n",
    "t2_ref_ckt.ry(np.pi/2, 0) \n",
    "t2_ref_ckt.rx(np.pi, 0)\n",
    "\n",
    "# CNOT with qubit 0 as control and qubit 1 as target\n",
    "t2_ref_ckt.cx(0,1)\n",
    "\n",
    "# evolving the Statevector() using the QuantumCircuit() to reach the final state\n",
    "# this way there's no need for a simulator \n",
    "ref_sv = Statevector.from_label('00').evolve(t2_ref_ckt)\n",
    "\n",
    "# plot the state on the q-sphere for visualization\n",
    "plot_q(ref_sv, figsize=config['qsphere_fig_size'], show_state_phases=True)"
   ]
  },
  {
   "cell_type": "markdown",
   "metadata": {},
   "source": [
    "# Approaches"
   ]
  },
  {
   "cell_type": "markdown",
   "metadata": {},
   "source": [
    "# 1. Fixed Circuit + Gradient Descent implemented by hand + Noisy Simulations "
   ]
  },
  {
   "cell_type": "markdown",
   "metadata": {},
   "source": [
    "This first approach is straightforward. The order of the gates is fixed and I'm attempting to learn the parameters of the RX and RY gates using Gradient Descent...  \n",
    "\n",
    "In order to measure $\\lvert01\\rangle$ and $\\lvert10\\rangle$ with equal probability, we must generate a state \n",
    "$$\n",
    "\\lvert\\psi\\rangle = \\alpha\\lvert01\\rangle + \\beta\\lvert10\\rangle\n",
    "$$\n",
    "satisfying\n",
    "$$\n",
    "\\left\\lVert\\alpha^2\\right\\rVert = \\left\\lVert\\beta^2\\right\\rVert = 0.5\n",
    "$$\n",
    "\n",
    "The easiest way to generate this state is to first create $\\lvert\\psi^\\prime\\rangle = \\alpha\\lvert01\\rangle + \\beta\\lvert11\\rangle = \\big(\\alpha\\lvert0\\rangle + \\beta\\lvert1\\rangle \\big) \\otimes\\lvert1\\rangle$, and then apply a CX gate to this state controlled on the first qubit and targeting the second.\n",
    "\n",
    "The state $\\big(\\alpha\\lvert0\\rangle + \\beta\\lvert1\\rangle \\big) \\otimes\\lvert1\\rangle$ is (obviously) completely separable, which means I can treat each qubit individually and optimize one at a time.  \n",
    "  \n",
    "**In this case, the  first qubit must, at the end of the circuit, give you an equal probability of measuring $\\lvert0\\rangle$ (eigen value 1) and $\\lvert1\\rangle$ (eigen value -1).  \n",
    "The second qubit must end up in the state $\\lvert1\\rangle$ (upto a global phase).**\n",
    "\n",
    "Given the restriction that I can use only $RY(\\theta)$ and $RX(\\theta)$ gates, I decided to fix the structure of the circuit as shown below..."
   ]
  },
  {
   "cell_type": "code",
   "execution_count": null,
   "metadata": {
    "scrolled": true
   },
   "outputs": [],
   "source": [
    "# Initialize random circuit parameters\n",
    "\n",
    "# q0_thetas is a list of 2 angles (between 0 and 2*pi) which parametrize the RY and RX gates on qubit 1 respectively\n",
    "q1_thetas = 2 * np.pi * np.random.rand(2)\n",
    "# same as q1_thetas but for qubit 2\n",
    "q2_thetas = 2 * np.pi * np.random.rand(2)\n",
    "\n",
    "t2_ckt = QuantumCircuit(2)\n",
    "\n",
    "t2_ckt.ry(q1_thetas[0], 0)\n",
    "t2_ckt.rx(q1_thetas[1], 0)\n",
    "\n",
    "t2_ckt.ry(q2_thetas[0], 1)\n",
    "t2_ckt.rx(q2_thetas[1], 1)\n",
    "\n",
    "t2_ckt.cx(0, 1)\n",
    "\n",
    "t2_ckt.measure_all()\n",
    "print(\"Circuit created with random initialization of parameters...\")\n",
    "t2_ckt.draw('mpl')"
   ]
  },
  {
   "cell_type": "markdown",
   "metadata": {},
   "source": [
    "---\n",
    "\n",
    "## 1.1. Calculation\n",
    "\n",
    "Gradient Descent is a fairly simple algorithm to implement from scratch. Since we're working with individual qubits and optimizing over 2 gates only, it is easy to construct the unitary matrix representing the effect of the circuit on each qubit.  \n",
    "  \n",
    "  \n",
    "Let $\\theta_1$ be the rotation angle of the $RY$ Gate, and $\\theta_2$ be the rotation angle of the $RX$ Gate.\n",
    "  \n",
    "The unitary matrices corresponding to the $RY$ and $RX$ gates are given by:\n",
    "$$\n",
    "\\begin{aligned}\n",
    "    RY(\\theta_1) & = \n",
    "    \\begin{bmatrix} \n",
    "        cos(\\frac{\\theta_1}{2}) & -sin(\\frac{\\theta_1}{2}) \\\\ \n",
    "        -sin(\\frac{\\theta_1}{2}) & cos(\\frac{\\theta_1}{2})\n",
    "    \\end{bmatrix}\\\\\n",
    "    RX(\\theta_2) & = \n",
    "    \\begin{bmatrix} \n",
    "        cos(\\frac{\\theta_2}{2}) & -isin(\\frac{\\theta_2}{2}) \\\\ \n",
    "        -isin(\\frac{\\theta_2}{2}) & cos(\\frac{\\theta_2}{2})\n",
    "    \\end{bmatrix}\\\\\n",
    "\\end{aligned}\n",
    "$$  \n",
    "\n",
    "### Arriving at the final state in terms of parameters $\\theta_1$ and $\\theta_2$:\n",
    "  \n",
    "We start in the state $\\lvert0\\rangle = \\begin{bmatrix} 1\\\\0 \\end{bmatrix}$, and then apply $RY(\\theta_1)$ followed by $RX(\\theta_2)$...\n",
    "\n",
    "$$\n",
    "\\begin{bmatrix} \n",
    "    1 \\\\\n",
    "    0 \n",
    "\\end{bmatrix}\n",
    "\\xrightarrow{RY(\\theta_1)}\n",
    "\\begin{bmatrix} \n",
    "    cos(\\frac{\\theta_1}{2}) \\\\\n",
    "    -sin(\\frac{\\theta_1}{2})\n",
    "\\end{bmatrix}\n",
    "\\xrightarrow{RX(\\theta_2)}\n",
    "\\begin{bmatrix} \n",
    "    cos(\\frac{\\theta_1}{2})cos(\\frac{\\theta_2}{2}) + isin(\\frac{\\theta_1}{2})sin(\\frac{\\theta_2}{2}) \\\\\n",
    "    -icos(\\frac{\\theta_1}{2})sin(\\frac{\\theta_2}{2}) - sin(\\frac{\\theta_1}{2})cos(\\frac{\\theta_2}{2})\n",
    "\\end{bmatrix}\n",
    "$$\n",
    "\n",
    "### Probabilities of measuring $\\lvert0\\rangle$ and $\\lvert1\\rangle$:\n",
    "$$\n",
    "\\begin{aligned}\n",
    "P_0 & = cos^2(\\frac{\\theta_1}{2})cos^2(\\frac{\\theta_2}{2}) + sin^2(\\frac{\\theta_1}{2})sin^2(\\frac{\\theta_2}{2}) \\\\\n",
    "P_1 & = cos^2(\\frac{\\theta_1}{2})sin^2(\\frac{\\theta_2}{2}) + sin^2(\\frac{\\theta_1}{2})cos^2(\\frac{\\theta_2}{2})\n",
    "\\end{aligned}\n",
    "$$\n",
    "\n",
    "### Cost Function:\n",
    "\n",
    "The cost function must be one that penalizes a circuit which yields measurement probabilities that we don't want.\n",
    "\n",
    "#### For qubit 0:\n",
    "We want qubit 0 to end up in a state with equal probabilities ($\\frac{1}{2}$ each) of measuring $\\lvert0\\rangle$ and $\\lvert1\\rangle$. So a reasonable cost function is:\n",
    "$$\n",
    "J = \\frac{1}{2}(P_0 - 0.5)^2 + \\frac{1}{2}(P_1 - 0.5)^2\n",
    "$$\n",
    "\n",
    "#### For qubit 1:\n",
    "We want qubit 1 to end up in the state $\\lvert1\\rangle$, so we would like $P_0$ to be $0$ and $P_1$ to be $1$: \n",
    "$$\n",
    "J = \\frac{1}{2}(P_0)^2 + \\frac{1}{2}(P_1 - 1)^2\n",
    "$$  \n",
    "where the factors of $\\frac{1}{2}$ are taken for convenience with derivatives...  \n",
    "<font color=green>Because we're starting out in a state along the Z-axis of the Bloch sphere, and applying rotations along the X and Y axes, the 2 rotations effectively act independently, and so we can optimize them independently without having to worry about backpropagation of errors.</font>\n",
    "  \n",
    "  \n",
    "### Partial Derivatives\n",
    "\n",
    "At any step during the optimization, gradient descent changes the values of each parameter by an amount proportional to the partial derivative of the cost function with respect to that parameter at that point.  \n",
    "  \n",
    "The partial derivatives of the cost function are given by -  \n",
    "**for qubit 1:**\n",
    "$ \\frac{\\partial J}{\\partial \\theta_1} = \\bigg( \\frac{1}{2} * 2 * (P_0 - 0.5) * \\frac{\\partial P_0}{\\partial \\theta_1}\\bigg) + \\bigg( \\frac{1}{2} * 2 * (P_1 - 0.5) * \\frac{\\partial P_1}{\\partial \\theta_1}\\bigg) = (P_0 - 0.5) * \\frac{\\partial P_0}{\\partial \\theta_1} + (P_1 - 0.5) * \\frac{\\partial P_1}{\\partial \\theta_1}$  \n",
    "  \n",
    "**for qubit 2:**\n",
    "$ \\frac{\\partial J}{\\partial \\theta_1} = \\bigg( \\frac{1}{2} * 2 * (P_0) * \\frac{\\partial P_0}{\\partial \\theta_1}\\bigg) + \\bigg( \\frac{1}{2} * 2 * (P_1 - 1) * \\frac{\\partial P_1}{\\partial \\theta_1}\\bigg) = (P_0) * \\frac{\\partial P_0}{\\partial \\theta_1} + (P_1 - 1) * \\frac{\\partial P_1}{\\partial \\theta_1}$\n",
    "  \n",
    "### Calculations for $ \\frac{\\partial P_i}{\\partial \\theta_j} $:\n",
    "    \n",
    "$$\n",
    "\\begin{aligned}\n",
    "    \\frac{\\partial P_0}{\\partial \\theta_1} & = -sin\\theta_1cos^2\\frac{\\theta_2}{2} + sin\\theta_1sin^2\\frac{\\theta_2}{2} \\\\\n",
    "    & = -sin\\theta_1\\big(cos^2\\frac{\\theta_2}{2} - sin^2\\frac{\\theta_2}{2}\\big) \\\\\n",
    "    & = -sin\\theta_1cos\\theta_2 \\\\\n",
    "    \\\\\n",
    "    \\frac{\\partial P_0}{\\partial \\theta_2} & = -cos^2\\frac{\\theta_1}{2}sin\\theta_2 + sin^2\\frac{\\theta_1}{2}sin\\theta_2 \\\\\n",
    "    & = -cos\\theta_1sin\\theta_2 \\\\\n",
    "    \\\\\n",
    "    \\frac{\\partial P_1}{\\partial \\theta_1} & = cos^2\\frac{\\theta_2}{2}sin\\theta_1 - sin^2\\frac{\\theta_2}{2}sin\\theta_1 \\\\\n",
    "    & = sin\\theta_1cos\\theta_2 \\\\\n",
    "    \\\\\n",
    "    \\frac{\\partial P_1}{\\partial \\theta_2} & = -sin^2\\frac{\\theta_1}{2}sin\\theta_2 + cos^2\\frac{\\theta_1}{2}sin\\theta_2 \\\\\n",
    "    & = cos\\theta_1sin\\theta_2 \\\\\n",
    "\\end{aligned}\n",
    "$$\n",
    "  \n",
    "  \n",
    "#### Substituting these values:  \n",
    "**for qubit 1:**  \n",
    "$\\frac{\\partial J}{\\partial \\theta_1} = sin\\theta_1cos\\theta_2(P_1-P_0)$\n",
    "  \n",
    "and  \n",
    "\n",
    "$\\frac{\\partial J}{\\partial \\theta_2} = sin\\theta_2cos\\theta_1(P_1-P_0)$  \n",
    "  \n",
    "**for qubit 2:**  \n",
    "$\\frac{\\partial J}{\\partial \\theta_1} = sin\\theta_1cos\\theta_2(P_1 - P_0 - 1)$\n",
    "  \n",
    "and  \n",
    "\n",
    "$\\frac{\\partial J}{\\partial \\theta_2} = sin\\theta_2cos\\theta_1(P_1 - P_0 - 1)$  \n",
    "\n",
    "---"
   ]
  },
  {
   "cell_type": "markdown",
   "metadata": {},
   "source": [
    "We can now write helper functions to create the circuit, compute the costs and gradients, and to retrieve p0 and p1 from the Result object..."
   ]
  },
  {
   "cell_type": "code",
   "execution_count": null,
   "metadata": {
    "scrolled": true
   },
   "outputs": [],
   "source": [
    "def create_circuit(thetas, measure=True):\n",
    "    \n",
    "    ckt = QuantumCircuit(1)\n",
    "    ckt.ry(thetas[0], 0)\n",
    "    ckt.rx(thetas[1], 0)\n",
    "    if measure:\n",
    "        ckt.measure_all()\n",
    "\n",
    "    return ckt\n",
    "\n",
    "def compute_cost_qubit1 (p0, p1):\n",
    "    return ((p0 - 0.5) ** 2 + (p1 - 0.5) ** 2) / 2\n",
    "\n",
    "def compute_cost_qubit2 (p0, p1):\n",
    "    return ((p0) ** 2 + (p1 - 1) ** 2) / 2\n",
    "\n",
    "def compute_gradient_qubit1(learning_rate, thetas, p0, p1):\n",
    "    grad_1 = np.sin(thetas[0]) * np.cos(thetas[1]) * (p1 - p0)\n",
    "    grad_2 = np.sin(thetas[1]) * np.cos(thetas[0]) * (p1 - p0)\n",
    "    return [learning_rate * grad_1, learning_rate * grad_2]\n",
    "\n",
    "def compute_gradient_qubit2(learning_rate, thetas, p0, p1):\n",
    "    grad_1 = np.sin(thetas[0]) * np.cos(thetas[1]) * (p1 - p0 - 1)\n",
    "    grad_2 = np.sin(thetas[1]) * np.cos(thetas[0]) * (p1 - p0 - 1)\n",
    "    return [learning_rate * grad_1, learning_rate * grad_2]\n",
    "\n",
    "def get_probabilities (backend, result, shots):\n",
    "    \n",
    "    if backend == qasm_sim:\n",
    "        counts = result.get_counts()\n",
    "        \n",
    "    elif backend == statevector_sim:\n",
    "        counts = Statevector(result.get_statevector()).probabilities_dict()\n",
    "        \n",
    "    try:\n",
    "        p0 = counts['0'] / shots\n",
    "    except:\n",
    "        p0 = 0\n",
    "    \n",
    "    try:\n",
    "        p1 = counts['1'] / shots\n",
    "    except:\n",
    "        p1 = 0\n",
    "    return (p0, p1)"
   ]
  },
  {
   "cell_type": "markdown",
   "metadata": {},
   "source": [
    "We also need a function that will carry out gradient descent to optimize $\\theta_1$ and $\\theta_2$ on a given single qubit circuit..."
   ]
  },
  {
   "cell_type": "code",
   "execution_count": null,
   "metadata": {
    "scrolled": true
   },
   "outputs": [],
   "source": [
    "# learning rate\n",
    "alpha = 0.1\n",
    "# number of steps\n",
    "iterations = 1001\n",
    "# values for number of measurement shots per iteration\n",
    "shots = [1, 10, 100, 1000]"
   ]
  },
  {
   "cell_type": "code",
   "execution_count": null,
   "metadata": {
    "scrolled": true
   },
   "outputs": [],
   "source": [
    "def optimize_angles(backend, shots, measure, compute_gradient, compute_cost):\n",
    "    \n",
    "    costs = []\n",
    "    \n",
    "    # Generate a circuit with random parameters\n",
    "    thetas = 2 * np.pi * np.random.rand(2)\n",
    "    circuit = create_circuit(thetas, measure)\n",
    "    \n",
    "    print(\"\\n==============================\\n\")\n",
    "    print(\"Running gradient descent with shots = {} ...\".format(shots))\n",
    "    print(\"\\n==============================\\n\")\n",
    "    \n",
    "    for iteration in range(iterations):\n",
    "\n",
    "        result = execute(circuit, backend=backend, shots=shots).result()\n",
    "\n",
    "        (p0, p1) = get_probabilities(backend, result, shots)\n",
    "        cost = compute_cost(p0, p1)\n",
    "        costs.append(cost)\n",
    "\n",
    "        # Compute Gradient\n",
    "        delta = compute_gradient(alpha, thetas, p0, p1)\n",
    "        \n",
    "        # Update angles\n",
    "        thetas = thetas - delta\n",
    "        \n",
    "        if iteration % 500 == 0:\n",
    "            print (\"\\nIteration {} | Cost = {:.5e}\".format(iteration, cost))\n",
    "            print(\"Gradient: \", delta)\n",
    "            print(\"Updated angles: \", thetas)\n",
    "\n",
    "        circuit = create_circuit(thetas, measure)\n",
    "    \n",
    "    return circuit, thetas, costs"
   ]
  },
  {
   "cell_type": "markdown",
   "metadata": {},
   "source": [
    "---"
   ]
  },
  {
   "cell_type": "markdown",
   "metadata": {},
   "source": [
    "## 1.2. Qubit 1\n",
    "\n",
    "Optimizing $\\theta_1$ and $\\theta_2$ for qubit 1, which should give us $\\lvert0\\rangle$ and $\\lvert1\\rangle$ with equal probabilities... "
   ]
  },
  {
   "cell_type": "code",
   "execution_count": null,
   "metadata": {
    "scrolled": false
   },
   "outputs": [],
   "source": [
    "qubit1_results = []\n",
    "\n",
    "for num_shots in shots:\n",
    "\n",
    "    q1_ckt, q1_thetas, q1_costs = optimize_angles(qasm_sim, num_shots, True, compute_gradient_qubit1, compute_cost_qubit1)\n",
    "    \n",
    "    qubit1_results.append({'shots': num_shots, 'circuit': q1_ckt, 'angles': q1_thetas, 'costs': q1_costs})"
   ]
  },
  {
   "cell_type": "markdown",
   "metadata": {},
   "source": [
    "Now that the angles have been optimized, we can see what the resulting probability distributions look like for each selection of number of shots and visualize the changes in the cost function per iteration..."
   ]
  },
  {
   "cell_type": "code",
   "execution_count": null,
   "metadata": {
    "scrolled": true
   },
   "outputs": [],
   "source": [
    "fig, ax = plt.subplots(4)\n",
    "fig.set_size_inches(8, 8)\n",
    "fig.set_tight_layout(5.0)\n",
    "\n",
    "for idx, result in enumerate(qubit1_results):\n",
    "        \n",
    "    final_state = Statevector.from_label('0').evolve(result['circuit'].remove_final_measurements(inplace=False))\n",
    "    \n",
    "    probabilities = final_state.probabilities_dict()\n",
    "    p0 = probabilities['0'] if '0' in probabilities else 0\n",
    "    p1 = probabilities['1'] if '1' in probabilities else 0\n",
    "    \n",
    "    ax[idx].set_title(\"{} measurement shot(s) per iteration\".format(result['shots']))\n",
    "    ax[idx].plot(list(range(iterations)), result['costs'], label='Cost')\n",
    "    \n",
    "    print(\"\\n{} shot(s) per iteration \\nMeasurement probabilities (without noise): {}\\n\"\\\n",
    "          .format(result['shots'], probabilities))"
   ]
  },
  {
   "cell_type": "markdown",
   "metadata": {},
   "source": [
    "---"
   ]
  },
  {
   "cell_type": "markdown",
   "metadata": {},
   "source": [
    "## 1.3. Qubit 2\n",
    "\n",
    "Optimizing $\\theta_1$ and $\\theta_2$ for qubit 2, which should give us $\\lvert1\\rangle$ with probability $1$... "
   ]
  },
  {
   "cell_type": "code",
   "execution_count": null,
   "metadata": {
    "scrolled": false
   },
   "outputs": [],
   "source": [
    "qubit2_results = []\n",
    "\n",
    "for num_shots in shots:\n",
    "    \n",
    "    q2_ckt, q2_thetas, q2_costs = optimize_angles(qasm_sim, num_shots, True, compute_gradient_qubit2, compute_cost_qubit2)\n",
    "    \n",
    "    qubit2_results.append({'shots': num_shots, 'circuit': q2_ckt, 'angles': q2_thetas, 'costs': q2_costs})"
   ]
  },
  {
   "cell_type": "markdown",
   "metadata": {},
   "source": [
    "Once again, we can see what the resulting probability distributions and cost variations look like for each selection of number of shots..."
   ]
  },
  {
   "cell_type": "code",
   "execution_count": null,
   "metadata": {
    "scrolled": false
   },
   "outputs": [],
   "source": [
    "fig, ax = plt.subplots(4)\n",
    "fig.set_size_inches(8, 8)\n",
    "fig.set_tight_layout(5.0)\n",
    "\n",
    "for idx, result in enumerate(qubit2_results):\n",
    "       \n",
    "    final_state = Statevector.from_label('0').evolve(result['circuit'].remove_final_measurements(inplace=False))\n",
    "    \n",
    "    probabilities = final_state.probabilities_dict()\n",
    "    p0 = probabilities['0'] if '0' in probabilities else 0\n",
    "    p1 = probabilities['1'] if '1' in probabilities else 0\n",
    "    \n",
    "    ax[idx].set_title(\"{} measurement shot(s) per iteration\".format(result['shots']))\n",
    "    ax[idx].set_xlabel('Iteration')\n",
    "    ax[idx].set_ylabel('Cost')\n",
    "    ax[idx].plot(list(range(iterations)), result['costs'])\n",
    "    \n",
    "    print(\"\\n{} shot(s) per iteration \\nMeasurement probabilities (without noise): {}\\n\"\\\n",
    "          .format(result['shots'], probabilities))"
   ]
  },
  {
   "cell_type": "markdown",
   "metadata": {},
   "source": [
    "## 1.4. Putting it all together..."
   ]
  },
  {
   "cell_type": "code",
   "execution_count": null,
   "metadata": {
    "scrolled": true
   },
   "outputs": [],
   "source": [
    "final_circuits = []\n",
    "final_results = []\n",
    "\n",
    "for idx in range(4):\n",
    "    \n",
    "    qubit1_result = qubit1_results[idx]\n",
    "    qubit2_result = qubit2_results[idx]\n",
    "    \n",
    "    final_ckt = QuantumCircuit(2)\n",
    "    final_ckt.ry(qubit1_result['angles'][0], 0)\n",
    "    final_ckt.rx(qubit1_result['angles'][1], 0)\n",
    "    final_ckt.ry(qubit2_result['angles'][0], 1)\n",
    "    final_ckt.rx(qubit2_result['angles'][1], 1)\n",
    "    final_ckt.cx(0,1)\n",
    "    final_ckt.measure_all()\n",
    "    \n",
    "    final_circuits.append(final_ckt)\n",
    "    final_results.append(execute(final_ckt, backend=qasm_sim, shots=10000).result())"
   ]
  },
  {
   "cell_type": "markdown",
   "metadata": {},
   "source": [
    "### 1 measurement shot per iteration"
   ]
  },
  {
   "cell_type": "code",
   "execution_count": null,
   "metadata": {
    "scrolled": true
   },
   "outputs": [],
   "source": [
    "final_circuits[0].draw('mpl')"
   ]
  },
  {
   "cell_type": "code",
   "execution_count": null,
   "metadata": {
    "scrolled": true
   },
   "outputs": [],
   "source": [
    "plot_histogram(final_results[0].get_counts())"
   ]
  },
  {
   "cell_type": "markdown",
   "metadata": {},
   "source": [
    "---"
   ]
  },
  {
   "cell_type": "markdown",
   "metadata": {},
   "source": [
    "### 10 measurement shots per iteration"
   ]
  },
  {
   "cell_type": "code",
   "execution_count": null,
   "metadata": {
    "scrolled": true
   },
   "outputs": [],
   "source": [
    "final_circuits[1].draw('mpl')"
   ]
  },
  {
   "cell_type": "code",
   "execution_count": null,
   "metadata": {
    "scrolled": true
   },
   "outputs": [],
   "source": [
    "plot_histogram(final_results[1].get_counts())"
   ]
  },
  {
   "cell_type": "markdown",
   "metadata": {},
   "source": [
    "---"
   ]
  },
  {
   "cell_type": "markdown",
   "metadata": {},
   "source": [
    "### 100 measurement shots per iteration"
   ]
  },
  {
   "cell_type": "code",
   "execution_count": null,
   "metadata": {
    "scrolled": true
   },
   "outputs": [],
   "source": [
    "final_circuits[2].draw('mpl')"
   ]
  },
  {
   "cell_type": "code",
   "execution_count": null,
   "metadata": {
    "scrolled": true
   },
   "outputs": [],
   "source": [
    "plot_histogram(final_results[2].get_counts())"
   ]
  },
  {
   "cell_type": "markdown",
   "metadata": {},
   "source": [
    "---"
   ]
  },
  {
   "cell_type": "markdown",
   "metadata": {},
   "source": [
    "### 1000 measurement shots per iteration"
   ]
  },
  {
   "cell_type": "code",
   "execution_count": null,
   "metadata": {
    "scrolled": true
   },
   "outputs": [],
   "source": [
    "final_circuits[3].draw('mpl')"
   ]
  },
  {
   "cell_type": "code",
   "execution_count": null,
   "metadata": {
    "scrolled": true
   },
   "outputs": [],
   "source": [
    "plot_histogram(final_results[3].get_counts())"
   ]
  },
  {
   "cell_type": "markdown",
   "metadata": {},
   "source": [
    "---"
   ]
  },
  {
   "cell_type": "markdown",
   "metadata": {},
   "source": [
    "# 1.5. Analysis\n",
    "\n",
    "For the case of 1 measurement shot per iteration, since we're always going to get either 0 or 1, the cost function for qubit 1 remains a constant with time, never varying from 0.25. Similarly, the cost function for qubit 2 oscillates between 0 and 1 depending on the measurement outcomr. However, for other values of *shots*, it can be seen (mostly) decreasing over time.  \n",
    "\n",
    "The noise in the simulator acts as a deterrent, often preventing the optimization algorithm from knowing whether it has \"done a good job or not\". For example, even if we did take a tiny step in the right direction during the previous iteration, the skewed outcomes from measurement might indicate the opposite, causing the algorithm to adjust to that. Since we are making very small changes to the angles, and because the inherent probabilistic nature of measurement evens out these inaccuracies, we eventually end up at an optimal value.  \n",
    "\n",
    "The number of measurement shots per iteration does not seem to have a significant impact on the final outcome. This is presumably because the probabilities even out over the large number of iterations that we are running, and because the updates to angles are small enough to remain largely unaffected.\n",
    "\n",
    "---\n",
    "---\n",
    "---"
   ]
  },
  {
   "cell_type": "markdown",
   "metadata": {},
   "source": [
    "# 2 (Extra) Fixed Circuit + Gradient Descent implemented by hand + Noiseless Simulations \n",
    "\n",
    "Out of curiosity, I wanted to see how much better the optimizer would perform in the absence of noise. So I decided to experiment with that as well, using the statevector simulator instead of the QASM simulator. Here, the number of shots does not matter because the simulator does not perform any measurements, instead returning the final statevector. It calculates the measurement probabilities from the probability amplitudes of $\\lvert0\\rangle$ and $\\lvert1\\rangle$."
   ]
  },
  {
   "cell_type": "code",
   "execution_count": null,
   "metadata": {
    "scrolled": true
   },
   "outputs": [],
   "source": [
    "q1_ckt_noiseless, q1_thetas_noiseless, q1_costs_noiseless = \\\n",
    "    optimize_angles(statevector_sim, 1, False, compute_gradient_qubit1, compute_cost_qubit1)\n",
    "\n",
    "q2_ckt_noiseless, q2_thetas_noiseless, q2_costs_noiseless = \\\n",
    "    optimize_angles(statevector_sim, 1, False, compute_gradient_qubit2, compute_cost_qubit2)"
   ]
  },
  {
   "cell_type": "code",
   "execution_count": null,
   "metadata": {
    "scrolled": true
   },
   "outputs": [],
   "source": [
    "fig2, ax2 = plt.subplots(2)\n",
    "fig2.set_size_inches(8, 8)\n",
    "fig2.set_tight_layout(5.0)\n",
    "\n",
    "ax2[0].plot(range(iterations), q1_costs_noiseless)\n",
    "ax2[0].set_title(\"Cost vs Iterations - Qubit 1\")\n",
    "ax2[0].set_xlabel('Iteration')\n",
    "ax2[0].set_ylabel('Cost')\n",
    "\n",
    "ax2[1].plot(range(iterations), q2_costs_noiseless)\n",
    "ax2[1].set_title(\"Cost vs Iterations - Qubit 2\")\n",
    "ax2[1].set_xlabel('Iteration')\n",
    "ax2[1].set_ylabel('Cost')"
   ]
  },
  {
   "cell_type": "code",
   "execution_count": null,
   "metadata": {
    "scrolled": true
   },
   "outputs": [],
   "source": [
    "final_ckt_noiseless = QuantumCircuit(2)\n",
    "\n",
    "final_ckt_noiseless.ry(q1_thetas_noiseless[0], 0)\n",
    "final_ckt_noiseless.rx(q1_thetas_noiseless[1], 0)\n",
    "final_ckt_noiseless.ry(q2_thetas_noiseless[0], 1)\n",
    "final_ckt_noiseless.rx(q2_thetas_noiseless[1], 1)\n",
    "final_ckt_noiseless.cx(0,1)\n",
    "\n",
    "final_ckt_noiseless.measure_all()\n",
    "\n",
    "final_ckt_noiseless.draw('mpl')"
   ]
  },
  {
   "cell_type": "markdown",
   "metadata": {},
   "source": [
    "Let's see what the Statevector looks like on the QSphere:"
   ]
  },
  {
   "cell_type": "code",
   "execution_count": null,
   "metadata": {
    "scrolled": true
   },
   "outputs": [],
   "source": [
    "with np.printoptions(precision=3, suppress=True, formatter={'float': '{:0.2f}'.format}, linewidth=100):\n",
    "    print(\"Output Statevector: {}\" \\\n",
    "          .format(Statevector.from_label('00').evolve(final_ckt_noiseless.remove_final_measurements(inplace=False)).data)\n",
    "         )\n",
    "plot_q(Statevector.from_label('00').evolve(final_ckt_noiseless.remove_final_measurements(inplace=False)))"
   ]
  },
  {
   "cell_type": "markdown",
   "metadata": {},
   "source": [
    "And on running it on the QASM simulator..."
   ]
  },
  {
   "cell_type": "code",
   "execution_count": null,
   "metadata": {
    "scrolled": true
   },
   "outputs": [],
   "source": [
    "plot_histogram(execute(final_ckt_noiseless, backend=qasm_sim, shots=4096).result().get_counts())"
   ]
  },
  {
   "cell_type": "markdown",
   "metadata": {},
   "source": [
    "As expected, it is easier to the see the algorithm converge in the absence of noise. Although this might not have a great impact on the final outcome of the circuit, we are more likely to converge to perfect angles like $\\frac{\\pi}{2}$ or $\\frac{3\\pi}{2}$ without the noise..."
   ]
  },
  {
   "cell_type": "markdown",
   "metadata": {},
   "source": [
    "# 3 (Bonus) | Attempting to get $\\lvert01\\rangle$ + $\\lvert10\\rangle$"
   ]
  },
  {
   "cell_type": "markdown",
   "metadata": {},
   "source": []
  },
  {
   "cell_type": "code",
   "execution_count": null,
   "metadata": {
    "scrolled": true
   },
   "outputs": [],
   "source": []
  },
  {
   "cell_type": "code",
   "execution_count": null,
   "metadata": {
    "scrolled": true
   },
   "outputs": [],
   "source": []
  },
  {
   "cell_type": "code",
   "execution_count": null,
   "metadata": {
    "scrolled": true
   },
   "outputs": [],
   "source": []
  },
  {
   "cell_type": "markdown",
   "metadata": {},
   "source": [
    "## TODO\n",
    "- ~Run with different shots, compare results~\n",
    "- ~Run on statevector simulator instead of qasm simulator, to get results in the absence of noise~\n",
    "- ~Plot graphs - cost vs iteration, w and w/o noise~\n",
    "- ~Move stuff out into functions~\n",
    "- nelder mead, pyswarm\n",
    "- Experiment with rotoselect and pennylane stuff.\n",
    "- Try and get + on both 01 and 10\n",
    "- Use circuit.parameters instead of separate arrays for thetas\n",
    "- Optimize with scipy?"
   ]
  }
 ],
 "metadata": {
  "kernelspec": {
   "display_name": "Qiskit",
   "language": "python",
   "name": "qiskit"
  },
  "language_info": {
   "codemirror_mode": {
    "name": "ipython",
    "version": 3
   },
   "file_extension": ".py",
   "mimetype": "text/x-python",
   "name": "python",
   "nbconvert_exporter": "python",
   "pygments_lexer": "ipython3",
   "version": "3.8.1"
  }
 },
 "nbformat": 4,
 "nbformat_minor": 4
}
