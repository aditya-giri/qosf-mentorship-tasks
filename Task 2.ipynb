{
 "cells": [
  {
   "cell_type": "markdown",
   "metadata": {},
   "source": [
    "# Task 2 "
   ]
  },
  {
   "cell_type": "markdown",
   "metadata": {},
   "source": [
    "## Problem Statement\n",
    "\n",
    "_Implement a circuit that returns $\\lvert01\\rangle$ and $\\lvert10\\rangle$ with equal probability._\n",
    "\n",
    "**Requirements:**\n",
    "- The circuit should consist only of CNOTs, RXs and RYs. \n",
    "- Start from all parameters in parametric gates being equal to 0 or randomly chosen. \n",
    "- You should find the right set of parameters using gradient descent (you might use more advanced optimization methods if you like). \n",
    "- Simulations must be done with sampling - i.e. a limited number of measurements per iteration and noise. \n",
    "\n",
    "Compare the results for different numbers of measurements: 1, 10, 100, 1000. \n",
    "\n",
    "**Bonus question:\n",
    "How to make sure you produce state $\\lvert01\\rangle$ + $\\lvert10\\rangle$ and not $\\lvert01\\rangle$ - $\\lvert10\\rangle$?**"
   ]
  },
  {
   "cell_type": "markdown",
   "metadata": {},
   "source": [
    "---"
   ]
  },
  {
   "cell_type": "markdown",
   "metadata": {},
   "source": [
    "I've decided to use **Qiskit 0.20.0** for this task - it's the one I'm most comfortable with. Version details follow..."
   ]
  },
  {
   "cell_type": "code",
   "execution_count": null,
   "metadata": {
    "scrolled": false
   },
   "outputs": [],
   "source": [
    "%autosave 15\n",
    "import qiskit\n",
    "qiskit.__qiskit_version__"
   ]
  },
  {
   "cell_type": "code",
   "execution_count": 29,
   "metadata": {
    "scrolled": false
   },
   "outputs": [],
   "source": [
    "# imports and general configuration\n",
    "import random\n",
    "import numpy as np\n",
    "\n",
    "from qiskit import QuantumCircuit, execute, Aer\n",
    "from qiskit.visualization import plot_histogram, plot_state_qsphere as plot_q\n",
    "from qiskit.quantum_info import Statevector\n",
    "import matplotlib.pyplot as plt\n",
    "%matplotlib inline\n",
    "#%config InlineBackend.figure_format = 'svg'\n",
    "\n",
    "config = {\n",
    "    'output': 'mpl',\n",
    "    'qsphere_fig_size': (6.5, 6.5)\n",
    "}\n",
    "\n",
    "statevector_sim = Aer.get_backend('statevector_simulator')\n",
    "qasm_sim = Aer.get_backend('qasm_simulator')"
   ]
  },
  {
   "cell_type": "markdown",
   "metadata": {},
   "source": [
    "## Creating a reference circuit"
   ]
  },
  {
   "cell_type": "markdown",
   "metadata": {},
   "source": [
    "For starters, I decided to make a reference circuit that creates the state $\\lvert\\psi\\rangle = \\frac{1}{\\sqrt{2}}\\lvert01\\rangle + \\frac{1}{\\sqrt{2}}\\lvert10\\rangle$ (upto a global phase) using only RX, RY, and CX gates. The intention behind this was just to get a feel of the RX and RY gates and do some visualization..."
   ]
  },
  {
   "cell_type": "code",
   "execution_count": null,
   "metadata": {
    "scrolled": false
   },
   "outputs": [],
   "source": [
    "t2_ref_ckt = QuantumCircuit(2)\n",
    "\n",
    "# X gate on qubit 1\n",
    "t2_ref_ckt.rx(np.pi, 1)\n",
    "# Hadamard on qubit 0\n",
    "t2_ref_ckt.ry(np.pi/2, 0) \n",
    "t2_ref_ckt.rx(np.pi, 0)\n",
    "\n",
    "# CNOT with qubit 0 as control and qubit 1 as target\n",
    "t2_ref_ckt.cx(0,1)\n",
    "\n",
    "# evolving the Statevector() using the QuantumCircuit() to reach the final state\n",
    "# this way there's no need for a simulator \n",
    "ref_sv = Statevector.from_label('00').evolve(t2_ref_ckt)\n",
    "\n",
    "# plot the state on the q-sphere for visualization\n",
    "plot_q(ref_sv, figsize=config['qsphere_fig_size'], show_state_phases=True)"
   ]
  },
  {
   "cell_type": "markdown",
   "metadata": {},
   "source": [
    "# Approaches"
   ]
  },
  {
   "cell_type": "markdown",
   "metadata": {},
   "source": [
    "## 1. Fixed Circuit + Gradient Descent implemented by hand + Noisy Simulations "
   ]
  },
  {
   "cell_type": "markdown",
   "metadata": {},
   "source": [
    "This first approach is straightforward. The order of the gates is fixed and I'm attempting to learn the parameters of the RX and RY gates using Gradient Descent...  \n",
    "\n",
    "In order to measure $\\lvert01\\rangle$ and $\\lvert10\\rangle$ with equal probability, we must generate a state \n",
    "$$\n",
    "\\lvert\\psi\\rangle = \\alpha\\lvert01\\rangle + \\beta\\lvert10\\rangle\n",
    "$$\n",
    "satisfying\n",
    "$$\n",
    "\\left\\lVert\\alpha^2\\right\\rVert = \\left\\lVert\\beta^2\\right\\rVert = 0.5\n",
    "$$\n",
    "\n",
    "The easiest way to generate this state is to first create $\\lvert\\psi^\\prime\\rangle = \\alpha\\lvert01\\rangle + \\beta\\lvert11\\rangle = \\big(\\alpha\\lvert0\\rangle + \\beta\\lvert1\\rangle \\big) \\otimes\\lvert1\\rangle$, and then apply a CX gate to this state controlled on the first qubit and targeting the second.\n",
    "\n",
    "The state $\\big(\\alpha\\lvert0\\rangle + \\beta\\lvert1\\rangle \\big) \\otimes\\lvert1\\rangle$ is (obviously) completely separable, which means I can treat each qubit individually and optimize one at a time.  \n",
    "  \n",
    "**In this case, the  first qubit must, at the end of the circuit, give you an equal probability of measuring $\\lvert0\\rangle$ (eigen value 1) and $\\lvert1\\rangle$ (eigen value -1).  \n",
    "The second qubit must end up in the state $\\lvert1\\rangle$ (upto a global phase).**\n",
    "\n",
    "Given the restriction that I can use only $RY(\\theta)$ and $RX(\\theta)$ gates, I decided to fix the structure of the circuit as shown below..."
   ]
  },
  {
   "cell_type": "code",
   "execution_count": null,
   "metadata": {
    "scrolled": false
   },
   "outputs": [],
   "source": [
    "# Initialize random circuit parameters\n",
    "\n",
    "# q0_thetas is a list of 2 angles (between 0 and 2*pi) which parametrize the RY and RX gates on qubit 1 respectively\n",
    "q1_thetas = 2 * np.pi * np.random.rand(2)\n",
    "# same as q1_thetas but for qubit 2\n",
    "q2_thetas = 2 * np.pi * np.random.rand(2)\n",
    "\n",
    "t2_ckt = QuantumCircuit(2)\n",
    "\n",
    "t2_ckt.ry(q1_thetas[0], 0)\n",
    "t2_ckt.rx(q1_thetas[1], 0)\n",
    "\n",
    "t2_ckt.ry(q2_thetas[0], 1)\n",
    "t2_ckt.rx(q2_thetas[1], 1)\n",
    "\n",
    "t2_ckt.cx(0, 1)\n",
    "\n",
    "t2_ckt.measure_all()\n",
    "print(\"Circuit created with random initialization of parameters...\")\n",
    "t2_ckt.draw('mpl')"
   ]
  },
  {
   "cell_type": "markdown",
   "metadata": {},
   "source": [
    "---\n",
    "\n",
    "## 1.1. Calculation\n",
    "\n",
    "Gradient Descent is a fairly simple algorithm to implement from scratch. Since we're working with individual qubits and optimizing over 2 gates only, it is easy to construct the unitary matrix representing the effect of the circuit on each qubit.  \n",
    "  \n",
    "  \n",
    "Let $\\theta_1$ be the rotation angle of the $RY$ Gate, and $\\theta_2$ be the rotation angle of the $RX$ Gate.\n",
    "  \n",
    "The unitary matrices corresponding to the $RY$ and $RX$ gates are given by:\n",
    "$$\n",
    "\\begin{aligned}\n",
    "    RY(\\theta_1) & = \n",
    "    \\begin{bmatrix} \n",
    "        cos(\\frac{\\theta_1}{2}) & -sin(\\frac{\\theta_1}{2}) \\\\ \n",
    "        -sin(\\frac{\\theta_1}{2}) & cos(\\frac{\\theta_1}{2})\n",
    "    \\end{bmatrix}\\\\\n",
    "    RX(\\theta_2) & = \n",
    "    \\begin{bmatrix} \n",
    "        cos(\\frac{\\theta_2}{2}) & -isin(\\frac{\\theta_2}{2}) \\\\ \n",
    "        -isin(\\frac{\\theta_2}{2}) & cos(\\frac{\\theta_2}{2})\n",
    "    \\end{bmatrix}\\\\\n",
    "\\end{aligned}\n",
    "$$  \n",
    "\n",
    "### Arriving at the final state in terms of parameters $\\theta_1$ and $\\theta_2$:\n",
    "  \n",
    "We start in the state $\\lvert0\\rangle = \\begin{bmatrix} 1\\\\0 \\end{bmatrix}$, and then apply $RY(\\theta_1)$ followed by $RX(\\theta_2)$...\n",
    "\n",
    "$$\n",
    "\\begin{bmatrix} \n",
    "    1 \\\\\n",
    "    0 \n",
    "\\end{bmatrix}\n",
    "\\xrightarrow{RY(\\theta_1)}\n",
    "\\begin{bmatrix} \n",
    "    cos(\\frac{\\theta_1}{2}) \\\\\n",
    "    -sin(\\frac{\\theta_1}{2})\n",
    "\\end{bmatrix}\n",
    "\\xrightarrow{RX(\\theta_2)}\n",
    "\\begin{bmatrix} \n",
    "    cos(\\frac{\\theta_1}{2})cos(\\frac{\\theta_2}{2}) + isin(\\frac{\\theta_1}{2})sin(\\frac{\\theta_2}{2}) \\\\\n",
    "    -icos(\\frac{\\theta_1}{2})sin(\\frac{\\theta_2}{2}) - sin(\\frac{\\theta_1}{2})cos(\\frac{\\theta_2}{2})\n",
    "\\end{bmatrix}\n",
    "$$\n",
    "\n",
    "### Probabilities of measuring $\\lvert0\\rangle$ and $\\lvert1\\rangle$:\n",
    "$$\n",
    "\\begin{aligned}\n",
    "P_0 & = cos^2(\\frac{\\theta_1}{2})cos^2(\\frac{\\theta_2}{2}) + sin^2(\\frac{\\theta_1}{2})sin^2(\\frac{\\theta_2}{2}) \\\\\n",
    "P_1 & = cos^2(\\frac{\\theta_1}{2})sin^2(\\frac{\\theta_2}{2}) + sin^2(\\frac{\\theta_1}{2})cos^2(\\frac{\\theta_2}{2})\n",
    "\\end{aligned}\n",
    "$$\n",
    "\n",
    "### Cost Function:\n",
    "\n",
    "The cost function must be one that penalizes a circuit which yields measurement probabilities that we don't want.\n",
    "\n",
    "#### For qubit 0:\n",
    "We want qubit 0 to end up in a state with equal probabilities ($\\frac{1}{2}$ each) of measuring $\\lvert0\\rangle$ and $\\lvert1\\rangle$. So a reasonable cost function is:\n",
    "$$\n",
    "J = \\frac{1}{2}(P_0 - 0.5)^2 + \\frac{1}{2}(P_1 - 0.5)^2\n",
    "$$\n",
    "\n",
    "#### For qubit 1:\n",
    "We want qubit 1 to end up in the state $\\lvert1\\rangle$, so we would like $P_0$ to be $0$ and $P_1$ to be $1$: \n",
    "$$\n",
    "J = \\frac{1}{2}(P_0)^2 + \\frac{1}{2}(P_1 - 1)^2\n",
    "$$  \n",
    "where the factors of $\\frac{1}{2}$ are taken for convenience with derivatives...  \n",
    "<font color=green>Because we're starting out in a state along the Z-axis of the Bloch sphere, and applying rotations along the X and Y axes, the 2 rotations effectively act independently, and so we can optimize them independently without having to worry about backpropagation of errors.</font>\n",
    "  \n",
    "  \n",
    "### Partial Derivatives\n",
    "\n",
    "At any step during the optimization, gradient descent changes the values of each parameter by an amount proportional to the partial derivative of the cost function with respect to that parameter at that point.  \n",
    "  \n",
    "The partial derivatives of the cost function are given by -  \n",
    "**for qubit 1:**\n",
    "$ \\frac{\\partial J}{\\partial \\theta_1} = \\bigg( \\frac{1}{2} * 2 * (P_0 - 0.5) * \\frac{\\partial P_0}{\\partial \\theta_1}\\bigg) + \\bigg( \\frac{1}{2} * 2 * (P_1 - 0.5) * \\frac{\\partial P_1}{\\partial \\theta_1}\\bigg) = (P_0 - 0.5) * \\frac{\\partial P_0}{\\partial \\theta_1} + (P_1 - 0.5) * \\frac{\\partial P_1}{\\partial \\theta_1}$  \n",
    "  \n",
    "**for qubit 2:**\n",
    "$ \\frac{\\partial J}{\\partial \\theta_1} = \\bigg( \\frac{1}{2} * 2 * (P_0) * \\frac{\\partial P_0}{\\partial \\theta_1}\\bigg) + \\bigg( \\frac{1}{2} * 2 * (P_1 - 1) * \\frac{\\partial P_1}{\\partial \\theta_1}\\bigg) = (P_0) * \\frac{\\partial P_0}{\\partial \\theta_1} + (P_1 - 1) * \\frac{\\partial P_1}{\\partial \\theta_1}$\n",
    "  \n",
    "### Calculations for $ \\frac{\\partial P_i}{\\partial \\theta_j} $:\n",
    "    \n",
    "$$\n",
    "\\begin{aligned}\n",
    "    \\frac{\\partial P_0}{\\partial \\theta_1} & = -sin\\theta_1cos^2\\frac{\\theta_2}{2} + sin\\theta_1sin^2\\frac{\\theta_2}{2} \\\\\n",
    "    & = -sin\\theta_1\\big(cos^2\\frac{\\theta_2}{2} - sin^2\\frac{\\theta_2}{2}\\big) \\\\\n",
    "    & = -sin\\theta_1cos\\theta_2 \\\\\n",
    "    \\\\\n",
    "    \\frac{\\partial P_0}{\\partial \\theta_2} & = -cos^2\\frac{\\theta_1}{2}sin\\theta_2 + sin^2\\frac{\\theta_1}{2}sin\\theta_2 \\\\\n",
    "    & = -cos\\theta_1sin\\theta_2 \\\\\n",
    "    \\\\\n",
    "    \\frac{\\partial P_1}{\\partial \\theta_1} & = cos^2\\frac{\\theta_2}{2}sin\\theta_1 - sin^2\\frac{\\theta_2}{2}sin\\theta_1 \\\\\n",
    "    & = sin\\theta_1cos\\theta_2 \\\\\n",
    "    \\\\\n",
    "    \\frac{\\partial P_1}{\\partial \\theta_2} & = -sin^2\\frac{\\theta_1}{2}sin\\theta_2 + cos^2\\frac{\\theta_1}{2}sin\\theta_2 \\\\\n",
    "    & = cos\\theta_1sin\\theta_2 \\\\\n",
    "\\end{aligned}\n",
    "$$\n",
    "  \n",
    "  \n",
    "#### Substituting these values:  \n",
    "**for qubit 1:**  \n",
    "$\\frac{\\partial J}{\\partial \\theta_1} = sin\\theta_1cos\\theta_2(P_1-P_0)$\n",
    "  \n",
    "and  \n",
    "\n",
    "$\\frac{\\partial J}{\\partial \\theta_2} = sin\\theta_2cos\\theta_1(P_1-P_0)$  \n",
    "  \n",
    "**for qubit 2:**  \n",
    "$\\frac{\\partial J}{\\partial \\theta_1} = sin\\theta_1cos\\theta_2(P_1 - P_0 - 1)$\n",
    "  \n",
    "and  \n",
    "\n",
    "$\\frac{\\partial J}{\\partial \\theta_2} = sin\\theta_2cos\\theta_1(P_1 - P_0 - 1)$  \n",
    "\n",
    "---"
   ]
  },
  {
   "cell_type": "markdown",
   "metadata": {},
   "source": [
    "We can now write helper functions to create the circuit, compute the costs and gradients, and to retrieve p0 and p1 from the Result object..."
   ]
  },
  {
   "cell_type": "code",
   "execution_count": 128,
   "metadata": {
    "scrolled": false
   },
   "outputs": [],
   "source": [
    "def create_circuit(thetas):\n",
    "    \n",
    "    ckt = QuantumCircuit(1)\n",
    "    ckt.ry(thetas[0], 0)\n",
    "    ckt.rx(thetas[1], 0)\n",
    "    ckt.measure_all()\n",
    "\n",
    "    return ckt\n",
    "\n",
    "def compute_cost_qubit1 (p0, p1):\n",
    "    return ((p0 - 0.5) ** 2 + (p1 - 0.5) ** 2) / 2\n",
    "\n",
    "def compute_cost_qubit2 (p0, p1):\n",
    "    return ((p0) ** 2 + (p1 - 1) ** 2) / 2\n",
    "\n",
    "def compute_gradient_qubit1(learning_rate, thetas, p0, p1):\n",
    "    grad_1 = np.sin(thetas[0]) * np.cos(thetas[1]) * (p1 - p0)\n",
    "    grad_2 = np.sin(thetas[1]) * np.cos(thetas[0]) * (p1 - p0)\n",
    "    return [learning_rate * grad_1, learning_rate * grad_2]\n",
    "\n",
    "def compute_gradient_qubit2(learning_rate, thetas, p0, p1):\n",
    "    grad_1 = np.sin(thetas[0]) * np.cos(thetas[1]) * (p1 - p0 - 1)\n",
    "    grad_2 = np.sin(thetas[1]) * np.cos(thetas[0]) * (p1 - p0 - 1)\n",
    "    return [learning_rate * grad_1, learning_rate * grad_2]\n",
    "\n",
    "def get_probabilities (backend, result, shots):\n",
    "    if backend == qasm_sim:\n",
    "        counts = result.get_counts()\n",
    "    else:\n",
    "        counts = Statevector(result.get_statevector()).probabilities_dict()\n",
    "    \n",
    "    try:\n",
    "        p0 = counts['0'] / shots\n",
    "    except:\n",
    "        p0 = 0\n",
    "    \n",
    "    try:\n",
    "        p1 = counts['1'] / shots\n",
    "    except:\n",
    "        p1 = 0\n",
    "    return (p0, p1)"
   ]
  },
  {
   "cell_type": "markdown",
   "metadata": {},
   "source": [
    "We also need a function that will carry out gradient descent to optimize $\\theta_1$ and $\\theta_2$ on a given single qubit circuit..."
   ]
  },
  {
   "cell_type": "code",
   "execution_count": 118,
   "metadata": {
    "scrolled": false
   },
   "outputs": [],
   "source": [
    "# learning rate\n",
    "alpha = 0.1\n",
    "# number of steps\n",
    "iterations = 1000\n",
    "# values for number of measurement shots per iteration\n",
    "shots = [1, 10, 100, 1000]"
   ]
  },
  {
   "cell_type": "code",
   "execution_count": 121,
   "metadata": {
    "scrolled": false
   },
   "outputs": [],
   "source": [
    "def optimize_angles(backend, shots, compute_gradient, compute_cost):\n",
    "    \n",
    "    costs = []\n",
    "    \n",
    "    # Generate a circuit with random parameters\n",
    "    thetas = 2 * np.pi * np.random.rand(2)\n",
    "    circuit = create_circuit(thetas)\n",
    "    \n",
    "    print(\"\\n==============================\\n\")\n",
    "    print(\"Optimizing with shots = {} ...\".format(shots))\n",
    "    print(\"\\n==============================\\n\")\n",
    "    \n",
    "    for iteration in range(iterations):\n",
    "        \n",
    "        result = execute(circuit, backend=backend, shots=shots).result()\n",
    "\n",
    "        (p0, p1) = get_probabilities(backend, result, shots)\n",
    "        cost = compute_cost(p0, p1)\n",
    "        costs.append(cost)\n",
    "\n",
    "        # Compute Gradient\n",
    "        delta = compute_gradient(alpha, thetas, p0, p1)\n",
    "        \n",
    "        # Update angles\n",
    "        thetas = thetas - delta\n",
    "        \n",
    "        if iteration % 500 == 0:\n",
    "            print (\"\\nIteration {} | Cost = {:.5e}\".format(iteration, cost))\n",
    "            print(\"Gradient: \", delta)\n",
    "            print(\"Updated angles: \", thetas)\n",
    "\n",
    "        circuit = create_circuit(thetas)\n",
    "    \n",
    "    return circuit, thetas, costs"
   ]
  },
  {
   "cell_type": "markdown",
   "metadata": {},
   "source": [
    "---"
   ]
  },
  {
   "cell_type": "markdown",
   "metadata": {},
   "source": [
    "## 1.2. Qubit 1\n",
    "\n",
    "Optimizing $\\theta_1$ and $\\theta_2$ for qubit 1, which should give us $\\lvert0\\rangle$ and $\\lvert1\\rangle$ with equal probabilities... "
   ]
  },
  {
   "cell_type": "code",
   "execution_count": 100,
   "metadata": {
    "scrolled": true
   },
   "outputs": [
    {
     "name": "stdout",
     "output_type": "stream",
     "text": [
      "\n",
      "==============================\n",
      "\n",
      "Optimizing with shots = 1 ...\n",
      "\n",
      "==============================\n",
      "\n",
      "\n",
      "Iteration 0 | Cost = 2.50000e-01\n",
      "Gradient:  [-0.06380215111888786, -0.032920698659188695]\n",
      "Updated angles:  [0.87781448 3.6745793 ]\n",
      "\n",
      "Iteration 500 | Cost = 2.50000e-01\n",
      "Gradient:  [0.011282104989741587, -0.004182090071511979]\n",
      "Updated angles:  [1.60161677 4.60340858]\n",
      "\n",
      "==============================\n",
      "\n",
      "Optimizing with shots = 10 ...\n",
      "\n",
      "==============================\n",
      "\n",
      "\n",
      "Iteration 0 | Cost = 9.00000e-02\n",
      "Gradient:  [-0.023685592601243633, -0.01258694906532594]\n",
      "Updated angles:  [1.36291073 4.30735588]\n",
      "\n",
      "Iteration 500 | Cost = 4.00000e-02\n",
      "Gradient:  [-0.011185836141498075, 0.0023304031531177685]\n",
      "Updated angles:  [1.64271006 4.42609535]\n",
      "\n",
      "==============================\n",
      "\n",
      "Optimizing with shots = 100 ...\n",
      "\n",
      "==============================\n",
      "\n",
      "\n",
      "Iteration 0 | Cost = 8.10000e-03\n",
      "Gradient:  [0.0030501737088717354, -0.014301694703357402]\n",
      "Updated angles:  [2.5561806  4.41349602]\n",
      "\n",
      "Iteration 500 | Cost = 1.60000e-03\n",
      "Gradient:  [-4.6611151695792536e-05, -0.006464446147633166]\n",
      "Updated angles:  [2.51175434 4.72874473]\n",
      "\n",
      "==============================\n",
      "\n",
      "Optimizing with shots = 1000 ...\n",
      "\n",
      "==============================\n",
      "\n",
      "\n",
      "Iteration 0 | Cost = 2.10681e-01\n",
      "Gradient:  [0.009548487358903013, 0.04179333019033416]\n",
      "Updated angles:  [6.15633234 5.76518058]\n",
      "\n",
      "Iteration 500 | Cost = 1.60000e-05\n",
      "Gradient:  [-1.1935406037919158e-06, 0.0007723373280605428]\n",
      "Updated angles:  [6.01950687 4.70589241]\n"
     ]
    }
   ],
   "source": [
    "qubit1_results = []\n",
    "\n",
    "for num_shots in shots:\n",
    "\n",
    "    q1_ckt, q1_thetas, q1_costs = optimize_angles(qasm_sim, num_shots, compute_gradient_qubit1, compute_cost_qubit1)\n",
    "    \n",
    "    qubit1_results.append({'shots': num_shots, 'circuit': q1_ckt, 'angles': q1_thetas, 'costs': q1_costs})"
   ]
  },
  {
   "cell_type": "markdown",
   "metadata": {},
   "source": [
    "Now that the angles have been optimized, we can see what the resulting probability distributions look like for each selection of number of shots and visualize the changes in the cost function per iteration..."
   ]
  },
  {
   "cell_type": "code",
   "execution_count": null,
   "metadata": {
    "scrolled": false
   },
   "outputs": [],
   "source": [
    "fig, ax = plt.subplots(4)\n",
    "fig.set_size_inches(8, 8)\n",
    "fig.set_tight_layout(5.0)\n",
    "\n",
    "for idx, result in enumerate(qubit1_results):\n",
    "        \n",
    "    final_state = Statevector.from_label('0').evolve(result['circuit'].remove_final_measurements(inplace=False))\n",
    "    \n",
    "    probabilities = final_state.probabilities_dict()\n",
    "    p0 = probabilities['0'] if '0' in probabilities else 0\n",
    "    p1 = probabilities['1'] if '1' in probabilities else 0\n",
    "    \n",
    "    ax[idx].set_title(\"{} measurement shot(s) per iteration\".format(result['shots']))\n",
    "    ax[idx].plot(list(range(iterations)), result['costs'], label='Cost')\n",
    "    \n",
    "    print(\"\\n{} shot(s) per iteration \\nMeasurement probabilities (without noise): {}\\n\"\\\n",
    "          .format(result['shots'], probabilities))"
   ]
  },
  {
   "cell_type": "markdown",
   "metadata": {},
   "source": [
    "---"
   ]
  },
  {
   "cell_type": "markdown",
   "metadata": {},
   "source": [
    "## 1.3. Qubit 2\n",
    "\n",
    "Optimizing $\\theta_1$ and $\\theta_2$ for qubit 2, which should give us $\\lvert1\\rangle$ with probability $1$... "
   ]
  },
  {
   "cell_type": "code",
   "execution_count": 103,
   "metadata": {
    "scrolled": true
   },
   "outputs": [
    {
     "name": "stdout",
     "output_type": "stream",
     "text": [
      "\n",
      "==============================\n",
      "\n",
      "Optimizing with shots = 1 ...\n",
      "\n",
      "==============================\n",
      "\n",
      "\n",
      "Iteration 0 | Cost = 1.00000e+00\n",
      "Gradient:  [-0.059358527728190835, -0.12297232863822255]\n",
      "Updated angles:  [0.47115836 0.85846418]\n",
      "\n",
      "Iteration 500 | Cost = 0.00000e+00\n",
      "Gradient:  [-0.0, 0.0]\n",
      "Updated angles:  [0.08658609 3.01363671]\n",
      "\n",
      "==============================\n",
      "\n",
      "Optimizing with shots = 10 ...\n",
      "\n",
      "==============================\n",
      "\n",
      "\n",
      "Iteration 0 | Cost = 8.10000e-01\n",
      "Gradient:  [-0.04008319485288405, -0.07701059942736839]\n",
      "Updated angles:  [0.29090873 0.53445539]\n",
      "\n",
      "Iteration 500 | Cost = 0.00000e+00\n",
      "Gradient:  [-0.0, 0.0]\n",
      "Updated angles:  [0.07407924 3.01945823]\n",
      "\n",
      "==============================\n",
      "\n",
      "Optimizing with shots = 100 ...\n",
      "\n",
      "==============================\n",
      "\n",
      "\n",
      "Iteration 0 | Cost = 3.36400e-01\n",
      "Gradient:  [-0.003934566598387588, -0.11097316040974269]\n",
      "Updated angles:  [0.27042859 1.55261417]\n",
      "\n",
      "Iteration 500 | Cost = 0.00000e+00\n",
      "Gradient:  [-0.0, 0.0]\n",
      "Updated angles:  [0.03699175 3.00662004]\n",
      "\n",
      "==============================\n",
      "\n",
      "Optimizing with shots = 1000 ...\n",
      "\n",
      "==============================\n",
      "\n",
      "\n",
      "Iteration 0 | Cost = 9.79690e-02\n",
      "Gradient:  [0.014609435035713679, 0.0476072967754985]\n",
      "Updated angles:  [3.69013282 1.07075304]\n",
      "\n",
      "Iteration 500 | Cost = 4.90000e-05\n",
      "Gradient:  [0.00010205316028088169, 0.00017154189574671225]\n",
      "Updated angles:  [3.21500841 0.12300148]\n"
     ]
    }
   ],
   "source": [
    "qubit2_results = []\n",
    "\n",
    "for num_shots in shots:\n",
    "    \n",
    "    q2_ckt, q2_thetas, q2_costs = optimize_angles(qasm_sim, num_shots, compute_gradient_qubit2, compute_cost_qubit2)\n",
    "    \n",
    "    qubit2_results.append({'shots': num_shots, 'circuit': q2_ckt, 'angles': q2_thetas, 'costs': q2_costs})"
   ]
  },
  {
   "cell_type": "markdown",
   "metadata": {},
   "source": [
    "Once again, we can see what the resulting probability distributions and cost variations look like for each selection of number of shots..."
   ]
  },
  {
   "cell_type": "code",
   "execution_count": null,
   "metadata": {
    "scrolled": true
   },
   "outputs": [],
   "source": [
    "fig, ax = plt.subplots(4)\n",
    "fig.set_size_inches(8, 8)\n",
    "fig.set_tight_layout(5.0)\n",
    "\n",
    "for idx, result in enumerate(qubit2_results):\n",
    "       \n",
    "    final_state = Statevector.from_label('0').evolve(result['circuit'].remove_final_measurements(inplace=False))\n",
    "    \n",
    "    probabilities = final_state.probabilities_dict()\n",
    "    p0 = probabilities['0'] if '0' in probabilities else 0\n",
    "    p1 = probabilities['1'] if '1' in probabilities else 0\n",
    "    \n",
    "    ax[idx].set_title(\"{} measurement shot(s) per iteration\".format(result['shots']))\n",
    "    ax[idx].set_xlabel('Iteration')\n",
    "    ax[idx].set_ylabel('Cost')\n",
    "    ax[idx].plot(list(range(iterations)), result['costs'])\n",
    "    \n",
    "    print(\"\\n{} shot(s) per iteration \\nMeasurement probabilities (without noise): {}\\n\"\\\n",
    "          .format(result['shots'], probabilities))"
   ]
  },
  {
   "cell_type": "markdown",
   "metadata": {},
   "source": [
    "## 1.4. Putting it all together..."
   ]
  },
  {
   "cell_type": "code",
   "execution_count": 108,
   "metadata": {
    "scrolled": false
   },
   "outputs": [],
   "source": [
    "final_circuits = []\n",
    "final_results = []\n",
    "\n",
    "for idx in range(4):\n",
    "    \n",
    "    qubit1_result = qubit1_results[idx]\n",
    "    qubit2_result = qubit2_results[idx]\n",
    "    \n",
    "    final_ckt = QuantumCircuit(2)\n",
    "    final_ckt.ry(qubit1_result['angles'][0], 0)\n",
    "    final_ckt.rx(qubit1_result['angles'][1], 0)\n",
    "    final_ckt.ry(qubit2_result['angles'][0], 1)\n",
    "    final_ckt.rx(qubit2_result['angles'][1], 1)\n",
    "    final_ckt.cx(0,1)\n",
    "    final_ckt.measure_all()\n",
    "    \n",
    "    final_circuits.append(final_ckt)\n",
    "    final_results.append(execute(final_ckt, backend=qasm_sim, shots=10000).result())"
   ]
  },
  {
   "cell_type": "markdown",
   "metadata": {},
   "source": [
    "### 1 measurement shot per iteration"
   ]
  },
  {
   "cell_type": "code",
   "execution_count": null,
   "metadata": {
    "scrolled": false
   },
   "outputs": [],
   "source": [
    "final_circuits[0].draw('mpl')"
   ]
  },
  {
   "cell_type": "code",
   "execution_count": null,
   "metadata": {
    "scrolled": false
   },
   "outputs": [],
   "source": [
    "plot_histogram(final_results[0].get_counts())"
   ]
  },
  {
   "cell_type": "markdown",
   "metadata": {},
   "source": [
    "---"
   ]
  },
  {
   "cell_type": "markdown",
   "metadata": {},
   "source": [
    "### 10 measurement shots per iteration"
   ]
  },
  {
   "cell_type": "code",
   "execution_count": null,
   "metadata": {
    "scrolled": false
   },
   "outputs": [],
   "source": [
    "final_circuits[1].draw('mpl')"
   ]
  },
  {
   "cell_type": "code",
   "execution_count": null,
   "metadata": {
    "scrolled": false
   },
   "outputs": [],
   "source": [
    "plot_histogram(final_results[1].get_counts())"
   ]
  },
  {
   "cell_type": "markdown",
   "metadata": {},
   "source": [
    "---"
   ]
  },
  {
   "cell_type": "markdown",
   "metadata": {},
   "source": [
    "### 100 measurement shots per iteration"
   ]
  },
  {
   "cell_type": "code",
   "execution_count": null,
   "metadata": {
    "scrolled": false
   },
   "outputs": [],
   "source": [
    "final_circuits[2].draw('mpl')"
   ]
  },
  {
   "cell_type": "code",
   "execution_count": null,
   "metadata": {
    "scrolled": false
   },
   "outputs": [],
   "source": [
    "plot_histogram(final_results[2].get_counts())"
   ]
  },
  {
   "cell_type": "markdown",
   "metadata": {},
   "source": [
    "---"
   ]
  },
  {
   "cell_type": "markdown",
   "metadata": {},
   "source": [
    "### 1000 measurement shots per iteration"
   ]
  },
  {
   "cell_type": "code",
   "execution_count": null,
   "metadata": {
    "scrolled": false
   },
   "outputs": [],
   "source": [
    "final_circuits[3].draw('mpl')"
   ]
  },
  {
   "cell_type": "code",
   "execution_count": null,
   "metadata": {
    "scrolled": false
   },
   "outputs": [],
   "source": [
    "plot_histogram(final_results[3].get_counts())"
   ]
  },
  {
   "cell_type": "markdown",
   "metadata": {},
   "source": [
    "---"
   ]
  },
  {
   "cell_type": "markdown",
   "metadata": {},
   "source": [
    "# 2. Analysis\n",
    "\n",
    "For the case of 1 measurement shot per iteration, since we're always going to get either 0 or 1, the cost function for qubit 1 remains a constant with time, never varying from 0.25. Similarly, the cost function for qubit 2 oscillates between 0 and 1 depending on the measurement outcomr. However, for other values of *shots*, it can be seen (mostly) decreasing over time.  \n",
    "\n",
    "The noise in the simulator acts as a deterrent, often preventing the optimization algorithm from knowing whether it has done a gooc job or not. For example, even if we did take a tiny step in the right direction during the previous iteration, the skewed outcomes from measurement might indicate the opposite, causing the algorithm to adjust to that. Since we are making very small changes to the angles, and because the inherent probabilistic nature of measurement evens out these inaccuracies, we eventually end up at an optimal value.  \n",
    "\n",
    "The number of measurement shots per iteration does not seem to have a significant impact on the final outcome. This is presumably because the probabilities even out over the large number of iterations that we are running, and because the updates to angles are small enough to remain largely unaffected.\n",
    "\n",
    "---\n",
    "---\n",
    "---"
   ]
  },
  {
   "cell_type": "markdown",
   "metadata": {},
   "source": [
    "# 2 (Extra) Optimizing with noise-less simulation\n",
    "\n",
    "Out of curiosity, I wanted to see how well the optimizer would perform with a noiseless simulation, so I decided to experiment with that as well, using the statevector simulator instead of the QASM simulator. Here, the number of shots does not matter because the simulator does not perform any measurements, instead returning the final statevector. "
   ]
  },
  {
   "cell_type": "markdown",
   "metadata": {},
   "source": [
    "## Qubit 1"
   ]
  },
  {
   "cell_type": "code",
   "execution_count": 129,
   "metadata": {},
   "outputs": [
    {
     "name": "stdout",
     "output_type": "stream",
     "text": [
      "\n",
      "==============================\n",
      "\n",
      "Optimizing with shots = 1000 ...\n",
      "\n",
      "==============================\n",
      "\n",
      "\n",
      "Iteration 0 | Cost = 2.49501e-01\n",
      "Gradient:  [8.62922543137876e-05, 1.1170011291468977e-05]\n",
      "Updated angles:  [1.81826852 2.66825581]\n",
      "\n",
      "Iteration 500 | Cost = 2.49501e-01\n",
      "Gradient:  [8.650810717644812e-05, 1.0593913785509459e-05]\n",
      "Updated angles:  [1.80444445 2.66651424]\n"
     ]
    }
   ],
   "source": [
    "q1_ckt_2, q1_thetas_2, q1_costs_2 = optimize_angles(statevector_sim, num_shots, compute_gradient_qubit1, compute_cost_qubit1)"
   ]
  },
  {
   "cell_type": "markdown",
   "metadata": {},
   "source": [
    "q1_ckt2.draw"
   ]
  },
  {
   "cell_type": "markdown",
   "metadata": {},
   "source": [
    "## TODO\n",
    "- ~Run with different shots, compare results~\n",
    "2. Run on statevector simulator instead of qasm simulator, to get results in the absence of noise\n",
    "3. Plot graphs - cost vs iteration, w and w/o noise  \n",
    "- ~Move stuff out into functions~\n",
    "5. Experiment with rotoselect and pennylane stuff.\n",
    "6. Try and get 1/sqrt(2) amplitudes\n",
    "7. Try and get +1/sqrt(2) on both 01 and 10\n",
    "8. Use circuit.parameters instead of separate arrays for thetas\n",
    "9. Optimize with scipy?"
   ]
  },
  {
   "cell_type": "code",
   "execution_count": null,
   "metadata": {},
   "outputs": [],
   "source": []
  }
 ],
 "metadata": {
  "kernelspec": {
   "display_name": "Qiskit",
   "language": "python",
   "name": "qiskit"
  },
  "language_info": {
   "codemirror_mode": {
    "name": "ipython",
    "version": 3
   },
   "file_extension": ".py",
   "mimetype": "text/x-python",
   "name": "python",
   "nbconvert_exporter": "python",
   "pygments_lexer": "ipython3",
   "version": "3.8.1"
  }
 },
 "nbformat": 4,
 "nbformat_minor": 4
}
